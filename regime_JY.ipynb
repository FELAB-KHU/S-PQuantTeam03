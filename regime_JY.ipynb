{
 "cells": [
  {
   "cell_type": "code",
   "execution_count": 1,
   "metadata": {},
   "outputs": [
    {
     "name": "stdout",
     "output_type": "stream",
     "text": [
      "Collecting pandas_datareaderNote: you may need to restart the kernel to use updated packages.\n",
      "\n",
      "  Downloading pandas_datareader-0.10.0-py3-none-any.whl (109 kB)\n",
      "     ---------------------------------------- 0.0/109.5 kB ? eta -:--:--\n",
      "     --- ------------------------------------ 10.2/109.5 kB ? eta -:--:--\n",
      "     ---------- -------------------------- 30.7/109.5 kB 445.2 kB/s eta 0:00:01\n",
      "     -------------------- ---------------- 61.4/109.5 kB 550.5 kB/s eta 0:00:01\n",
      "     ------------------------------- ----- 92.2/109.5 kB 585.1 kB/s eta 0:00:01\n",
      "     ------------------------------------ 109.5/109.5 kB 636.0 kB/s eta 0:00:00\n",
      "Collecting lxml (from pandas_datareader)\n",
      "  Obtaining dependency information for lxml from https://files.pythonhosted.org/packages/77/e5/1f23e56678244258483521872507d64130cac9466902aca3f3141b8fb06b/lxml-4.9.3-cp312-cp312-win_amd64.whl.metadata\n",
      "  Downloading lxml-4.9.3-cp312-cp312-win_amd64.whl.metadata (3.9 kB)\n",
      "Requirement already satisfied: pandas>=0.23 in c:\\users\\yoojiyoung\\scoop\\apps\\python\\current\\lib\\site-packages (from pandas_datareader) (2.1.3)\n",
      "Collecting requests>=2.19.0 (from pandas_datareader)\n",
      "  Obtaining dependency information for requests>=2.19.0 from https://files.pythonhosted.org/packages/70/8e/0e2d847013cb52cd35b38c009bb167a1a26b2ce6cd6965bf26b47bc0bf44/requests-2.31.0-py3-none-any.whl.metadata\n",
      "  Downloading requests-2.31.0-py3-none-any.whl.metadata (4.6 kB)\n",
      "Requirement already satisfied: numpy<2,>=1.26.0 in c:\\users\\yoojiyoung\\scoop\\apps\\python\\current\\lib\\site-packages (from pandas>=0.23->pandas_datareader) (1.26.2)\n",
      "Requirement already satisfied: python-dateutil>=2.8.2 in c:\\users\\yoojiyoung\\appdata\\roaming\\python\\python312\\site-packages (from pandas>=0.23->pandas_datareader) (2.8.2)\n",
      "Requirement already satisfied: pytz>=2020.1 in c:\\users\\yoojiyoung\\scoop\\apps\\python\\current\\lib\\site-packages (from pandas>=0.23->pandas_datareader) (2023.3.post1)\n",
      "Requirement already satisfied: tzdata>=2022.1 in c:\\users\\yoojiyoung\\scoop\\apps\\python\\current\\lib\\site-packages (from pandas>=0.23->pandas_datareader) (2023.3)\n",
      "Collecting charset-normalizer<4,>=2 (from requests>=2.19.0->pandas_datareader)\n",
      "  Obtaining dependency information for charset-normalizer<4,>=2 from https://files.pythonhosted.org/packages/b6/7c/8debebb4f90174074b827c63242c23851bdf00a532489fba57fef3416e40/charset_normalizer-3.3.2-cp312-cp312-win_amd64.whl.metadata\n",
      "  Downloading charset_normalizer-3.3.2-cp312-cp312-win_amd64.whl.metadata (34 kB)\n",
      "Collecting idna<4,>=2.5 (from requests>=2.19.0->pandas_datareader)\n",
      "  Downloading idna-3.4-py3-none-any.whl (61 kB)\n",
      "     ---------------------------------------- 0.0/61.5 kB ? eta -:--:--\n",
      "     ---------------------------------------- 61.5/61.5 kB 1.7 MB/s eta 0:00:00\n",
      "Collecting urllib3<3,>=1.21.1 (from requests>=2.19.0->pandas_datareader)\n",
      "  Obtaining dependency information for urllib3<3,>=1.21.1 from https://files.pythonhosted.org/packages/96/94/c31f58c7a7f470d5665935262ebd7455c7e4c7782eb525658d3dbf4b9403/urllib3-2.1.0-py3-none-any.whl.metadata\n",
      "  Downloading urllib3-2.1.0-py3-none-any.whl.metadata (6.4 kB)\n",
      "Collecting certifi>=2017.4.17 (from requests>=2.19.0->pandas_datareader)\n",
      "  Obtaining dependency information for certifi>=2017.4.17 from https://files.pythonhosted.org/packages/4c/dd/2234eab22353ffc7d94e8d13177aaa050113286e93e7b40eae01fbf7c3d9/certifi-2023.7.22-py3-none-any.whl.metadata\n",
      "  Downloading certifi-2023.7.22-py3-none-any.whl.metadata (2.2 kB)\n",
      "Requirement already satisfied: six>=1.5 in c:\\users\\yoojiyoung\\appdata\\roaming\\python\\python312\\site-packages (from python-dateutil>=2.8.2->pandas>=0.23->pandas_datareader) (1.16.0)\n",
      "Downloading requests-2.31.0-py3-none-any.whl (62 kB)\n",
      "   ---------------------------------------- 0.0/62.6 kB ? eta -:--:--\n",
      "   ---------------------------------------- 62.6/62.6 kB 3.3 MB/s eta 0:00:00\n",
      "Downloading lxml-4.9.3-cp312-cp312-win_amd64.whl (3.8 MB)\n",
      "   ---------------------------------------- 0.0/3.8 MB ? eta -:--:--\n",
      "   - -------------------------------------- 0.2/3.8 MB 5.3 MB/s eta 0:00:01\n",
      "   --- ------------------------------------ 0.3/3.8 MB 3.8 MB/s eta 0:00:01\n",
      "   ---- ----------------------------------- 0.4/3.8 MB 3.2 MB/s eta 0:00:02\n",
      "   ----- ---------------------------------- 0.5/3.8 MB 3.2 MB/s eta 0:00:02\n",
      "   ------ --------------------------------- 0.6/3.8 MB 2.6 MB/s eta 0:00:02\n",
      "   ------ --------------------------------- 0.6/3.8 MB 2.4 MB/s eta 0:00:02\n",
      "   ------- -------------------------------- 0.7/3.8 MB 2.2 MB/s eta 0:00:02\n",
      "   ------- -------------------------------- 0.7/3.8 MB 2.1 MB/s eta 0:00:02\n",
      "   -------- ------------------------------- 0.8/3.8 MB 1.9 MB/s eta 0:00:02\n",
      "   -------- ------------------------------- 0.8/3.8 MB 1.9 MB/s eta 0:00:02\n",
      "   --------- ------------------------------ 0.9/3.8 MB 1.7 MB/s eta 0:00:02\n",
      "   --------- ------------------------------ 0.9/3.8 MB 1.7 MB/s eta 0:00:02\n",
      "   ---------- ----------------------------- 1.0/3.8 MB 1.6 MB/s eta 0:00:02\n",
      "   ---------- ----------------------------- 1.0/3.8 MB 1.6 MB/s eta 0:00:02\n",
      "   ---------- ----------------------------- 1.0/3.8 MB 1.5 MB/s eta 0:00:02\n",
      "   ------------- -------------------------- 1.3/3.8 MB 1.7 MB/s eta 0:00:02\n",
      "   ------------------- -------------------- 1.9/3.8 MB 2.4 MB/s eta 0:00:01\n",
      "   ------------------------- -------------- 2.4/3.8 MB 2.9 MB/s eta 0:00:01\n",
      "   ------------------------------- -------- 3.0/3.8 MB 3.4 MB/s eta 0:00:01\n",
      "   ------------------------------------- -- 3.5/3.8 MB 3.8 MB/s eta 0:00:01\n",
      "   ---------------------------------------- 3.8/3.8 MB 3.9 MB/s eta 0:00:00\n",
      "Downloading certifi-2023.7.22-py3-none-any.whl (158 kB)\n",
      "   ---------------------------------------- 0.0/158.3 kB ? eta -:--:--\n",
      "   ---------------------------------------- 158.3/158.3 kB 9.9 MB/s eta 0:00:00\n",
      "Downloading charset_normalizer-3.3.2-cp312-cp312-win_amd64.whl (100 kB)\n",
      "   ---------------------------------------- 0.0/100.4 kB ? eta -:--:--\n",
      "   ---------------------------------------- 100.4/100.4 kB ? eta 0:00:00\n",
      "Downloading urllib3-2.1.0-py3-none-any.whl (104 kB)\n",
      "   ---------------------------------------- 0.0/104.6 kB ? eta -:--:--\n",
      "   ---------------------------------------- 104.6/104.6 kB ? eta 0:00:00\n",
      "Installing collected packages: urllib3, lxml, idna, charset-normalizer, certifi, requests, pandas_datareader\n",
      "Successfully installed certifi-2023.7.22 charset-normalizer-3.3.2 idna-3.4 lxml-4.9.3 pandas_datareader-0.10.0 requests-2.31.0 urllib3-2.1.0\n"
     ]
    },
    {
     "name": "stderr",
     "output_type": "stream",
     "text": [
      "\n",
      "[notice] A new release of pip is available: 23.2.1 -> 23.3.1\n",
      "[notice] To update, run: python.exe -m pip install --upgrade pip\n"
     ]
    }
   ],
   "source": [
    "pip install pandas_datareader"
   ]
  },
  {
   "cell_type": "code",
   "execution_count": 3,
   "metadata": {},
   "outputs": [
    {
     "name": "stdout",
     "output_type": "stream",
     "text": [
      "Note: you may need to restart the kernel to use updated packages.\n"
     ]
    },
    {
     "name": "stderr",
     "output_type": "stream",
     "text": [
      "ERROR: Could not find a version that satisfies the requirement distutils (from versions: none)\n",
      "ERROR: No matching distribution found for distutils\n",
      "\n",
      "[notice] A new release of pip is available: 23.2.1 -> 23.3.1\n",
      "[notice] To update, run: python.exe -m pip install --upgrade pip\n"
     ]
    }
   ],
   "source": [
    "pip install distutils"
   ]
  },
  {
   "cell_type": "code",
   "execution_count": 2,
   "metadata": {},
   "outputs": [
    {
     "ename": "ModuleNotFoundError",
     "evalue": "No module named 'distutils'",
     "output_type": "error",
     "traceback": [
      "\u001b[1;31m---------------------------------------------------------------------------\u001b[0m",
      "\u001b[1;31mModuleNotFoundError\u001b[0m                       Traceback (most recent call last)",
      "\u001b[1;32mc:\\Users\\Yoojiyoung\\OneDrive - 경희대학교\\문서\\GitHub\\S-PQuantTeam03\\regime_JY.ipynb Cell 2\u001b[0m line \u001b[0;36m1\n\u001b[1;32m----> <a href='vscode-notebook-cell:/c%3A/Users/Yoojiyoung/OneDrive%20-%20%EA%B2%BD%ED%9D%AC%EB%8C%80%ED%95%99%EA%B5%90/%EB%AC%B8%EC%84%9C/GitHub/S-PQuantTeam03/regime_JY.ipynb#W0sZmlsZQ%3D%3D?line=0'>1</a>\u001b[0m \u001b[39mimport\u001b[39;00m \u001b[39mpandas_datareader\u001b[39;00m \u001b[39mas\u001b[39;00m \u001b[39mweb\u001b[39;00m\n\u001b[0;32m      <a href='vscode-notebook-cell:/c%3A/Users/Yoojiyoung/OneDrive%20-%20%EA%B2%BD%ED%9D%AC%EB%8C%80%ED%95%99%EA%B5%90/%EB%AC%B8%EC%84%9C/GitHub/S-PQuantTeam03/regime_JY.ipynb#W0sZmlsZQ%3D%3D?line=1'>2</a>\u001b[0m start \u001b[39m=\u001b[39m \u001b[39m'\u001b[39m\u001b[39m1960-01-01\u001b[39m\u001b[39m'\u001b[39m\n\u001b[0;32m      <a href='vscode-notebook-cell:/c%3A/Users/Yoojiyoung/OneDrive%20-%20%EA%B2%BD%ED%9D%AC%EB%8C%80%ED%95%99%EA%B5%90/%EB%AC%B8%EC%84%9C/GitHub/S-PQuantTeam03/regime_JY.ipynb#W0sZmlsZQ%3D%3D?line=2'>3</a>\u001b[0m end \u001b[39m=\u001b[39m \u001b[39m'\u001b[39m\u001b[39m2023-09-01\u001b[39m\u001b[39m'\u001b[39m\n",
      "File \u001b[1;32mc:\\Users\\Yoojiyoung\\scoop\\apps\\python\\current\\Lib\\site-packages\\pandas_datareader\\__init__.py:5\u001b[0m\n\u001b[0;32m      2\u001b[0m \u001b[39mimport\u001b[39;00m \u001b[39msys\u001b[39;00m\n\u001b[0;32m      4\u001b[0m \u001b[39mfrom\u001b[39;00m \u001b[39m.\u001b[39;00m\u001b[39m_version\u001b[39;00m \u001b[39mimport\u001b[39;00m get_versions\n\u001b[1;32m----> 5\u001b[0m \u001b[39mfrom\u001b[39;00m \u001b[39m.\u001b[39;00m\u001b[39mdata\u001b[39;00m \u001b[39mimport\u001b[39;00m (\n\u001b[0;32m      6\u001b[0m     DataReader,\n\u001b[0;32m      7\u001b[0m     Options,\n\u001b[0;32m      8\u001b[0m     get_components_yahoo,\n\u001b[0;32m      9\u001b[0m     get_dailysummary_iex,\n\u001b[0;32m     10\u001b[0m     get_data_alphavantage,\n\u001b[0;32m     11\u001b[0m     get_data_enigma,\n\u001b[0;32m     12\u001b[0m     get_data_famafrench,\n\u001b[0;32m     13\u001b[0m     get_data_fred,\n\u001b[0;32m     14\u001b[0m     get_data_moex,\n\u001b[0;32m     15\u001b[0m     get_data_quandl,\n\u001b[0;32m     16\u001b[0m     get_data_stooq,\n\u001b[0;32m     17\u001b[0m     get_data_tiingo,\n\u001b[0;32m     18\u001b[0m     get_data_yahoo,\n\u001b[0;32m     19\u001b[0m     get_data_yahoo_actions,\n\u001b[0;32m     20\u001b[0m     get_iex_book,\n\u001b[0;32m     21\u001b[0m     get_iex_data_tiingo,\n\u001b[0;32m     22\u001b[0m     get_iex_symbols,\n\u001b[0;32m     23\u001b[0m     get_last_iex,\n\u001b[0;32m     24\u001b[0m     get_markets_iex,\n\u001b[0;32m     25\u001b[0m     get_nasdaq_symbols,\n\u001b[0;32m     26\u001b[0m     get_quote_yahoo,\n\u001b[0;32m     27\u001b[0m     get_recent_iex,\n\u001b[0;32m     28\u001b[0m     get_records_iex,\n\u001b[0;32m     29\u001b[0m     get_summary_iex,\n\u001b[0;32m     30\u001b[0m     get_tops_iex,\n\u001b[0;32m     31\u001b[0m )\n\u001b[0;32m     33\u001b[0m PKG \u001b[39m=\u001b[39m os\u001b[39m.\u001b[39mpath\u001b[39m.\u001b[39mdirname(\u001b[39m__file__\u001b[39m)\n\u001b[0;32m     35\u001b[0m __version__ \u001b[39m=\u001b[39m get_versions()[\u001b[39m\"\u001b[39m\u001b[39mversion\u001b[39m\u001b[39m\"\u001b[39m]\n",
      "File \u001b[1;32mc:\\Users\\Yoojiyoung\\scoop\\apps\\python\\current\\Lib\\site-packages\\pandas_datareader\\data.py:11\u001b[0m\n\u001b[0;32m      7\u001b[0m \u001b[39mimport\u001b[39;00m \u001b[39mwarnings\u001b[39;00m\n\u001b[0;32m      9\u001b[0m \u001b[39mfrom\u001b[39;00m \u001b[39mpandas\u001b[39;00m\u001b[39m.\u001b[39;00m\u001b[39mutil\u001b[39;00m\u001b[39m.\u001b[39;00m\u001b[39m_decorators\u001b[39;00m \u001b[39mimport\u001b[39;00m deprecate_kwarg\n\u001b[1;32m---> 11\u001b[0m \u001b[39mfrom\u001b[39;00m \u001b[39mpandas_datareader\u001b[39;00m\u001b[39m.\u001b[39;00m\u001b[39mav\u001b[39;00m\u001b[39m.\u001b[39;00m\u001b[39mforex\u001b[39;00m \u001b[39mimport\u001b[39;00m AVForexReader\n\u001b[0;32m     12\u001b[0m \u001b[39mfrom\u001b[39;00m \u001b[39mpandas_datareader\u001b[39;00m\u001b[39m.\u001b[39;00m\u001b[39mav\u001b[39;00m\u001b[39m.\u001b[39;00m\u001b[39mquotes\u001b[39;00m \u001b[39mimport\u001b[39;00m AVQuotesReader\n\u001b[0;32m     13\u001b[0m \u001b[39mfrom\u001b[39;00m \u001b[39mpandas_datareader\u001b[39;00m\u001b[39m.\u001b[39;00m\u001b[39mav\u001b[39;00m\u001b[39m.\u001b[39;00m\u001b[39msector\u001b[39;00m \u001b[39mimport\u001b[39;00m AVSectorPerformanceReader\n",
      "File \u001b[1;32mc:\\Users\\Yoojiyoung\\scoop\\apps\\python\\current\\Lib\\site-packages\\pandas_datareader\\av\\__init__.py:5\u001b[0m\n\u001b[0;32m      1\u001b[0m \u001b[39mimport\u001b[39;00m \u001b[39mos\u001b[39;00m\n\u001b[0;32m      3\u001b[0m \u001b[39mimport\u001b[39;00m \u001b[39mpandas\u001b[39;00m \u001b[39mas\u001b[39;00m \u001b[39mpd\u001b[39;00m\n\u001b[1;32m----> 5\u001b[0m \u001b[39mfrom\u001b[39;00m \u001b[39mpandas_datareader\u001b[39;00m\u001b[39m.\u001b[39;00m\u001b[39m_utils\u001b[39;00m \u001b[39mimport\u001b[39;00m RemoteDataError\n\u001b[0;32m      6\u001b[0m \u001b[39mfrom\u001b[39;00m \u001b[39mpandas_datareader\u001b[39;00m\u001b[39m.\u001b[39;00m\u001b[39mbase\u001b[39;00m \u001b[39mimport\u001b[39;00m _BaseReader\n\u001b[0;32m      8\u001b[0m AV_BASE_URL \u001b[39m=\u001b[39m \u001b[39m\"\u001b[39m\u001b[39mhttps://www.alphavantage.co/query\u001b[39m\u001b[39m\"\u001b[39m\n",
      "File \u001b[1;32mc:\\Users\\Yoojiyoung\\scoop\\apps\\python\\current\\Lib\\site-packages\\pandas_datareader\\_utils.py:6\u001b[0m\n\u001b[0;32m      3\u001b[0m \u001b[39mfrom\u001b[39;00m \u001b[39mpandas\u001b[39;00m \u001b[39mimport\u001b[39;00m to_datetime\n\u001b[0;32m      4\u001b[0m \u001b[39mimport\u001b[39;00m \u001b[39mrequests\u001b[39;00m\n\u001b[1;32m----> 6\u001b[0m \u001b[39mfrom\u001b[39;00m \u001b[39mpandas_datareader\u001b[39;00m\u001b[39m.\u001b[39;00m\u001b[39mcompat\u001b[39;00m \u001b[39mimport\u001b[39;00m is_number\n\u001b[0;32m      9\u001b[0m \u001b[39mclass\u001b[39;00m \u001b[39mSymbolWarning\u001b[39;00m(\u001b[39mUserWarning\u001b[39;00m):\n\u001b[0;32m     10\u001b[0m     \u001b[39mpass\u001b[39;00m\n",
      "File \u001b[1;32mc:\\Users\\Yoojiyoung\\scoop\\apps\\python\\current\\Lib\\site-packages\\pandas_datareader\\compat\\__init__.py:1\u001b[0m\n\u001b[1;32m----> 1\u001b[0m \u001b[39mfrom\u001b[39;00m \u001b[39mdistutils\u001b[39;00m\u001b[39m.\u001b[39;00m\u001b[39mversion\u001b[39;00m \u001b[39mimport\u001b[39;00m LooseVersion\n\u001b[0;32m      2\u001b[0m \u001b[39mfrom\u001b[39;00m \u001b[39mfunctools\u001b[39;00m \u001b[39mimport\u001b[39;00m reduce\n\u001b[0;32m      3\u001b[0m \u001b[39mfrom\u001b[39;00m \u001b[39mio\u001b[39;00m \u001b[39mimport\u001b[39;00m StringIO\n",
      "\u001b[1;31mModuleNotFoundError\u001b[0m: No module named 'distutils'"
     ]
    }
   ],
   "source": [
    "import pandas_datareader as web\n",
    "start = '1960-01-01'\n",
    "end = '2023-09-01'\n",
    "leadingIndicator = web.DataReader('USALOLITONOSTSAM', 'fred', start = start, end = end).resample('M').mean()\n",
    "leadingIndicator"
   ]
  },
  {
   "cell_type": "code",
   "execution_count": null,
   "metadata": {},
   "outputs": [],
   "source": []
  }
 ],
 "metadata": {
  "kernelspec": {
   "display_name": "Python 3",
   "language": "python",
   "name": "python3"
  },
  "language_info": {
   "codemirror_mode": {
    "name": "ipython",
    "version": 3
   },
   "file_extension": ".py",
   "mimetype": "text/x-python",
   "name": "python",
   "nbconvert_exporter": "python",
   "pygments_lexer": "ipython3",
   "version": "3.12.0"
  }
 },
 "nbformat": 4,
 "nbformat_minor": 2
}
