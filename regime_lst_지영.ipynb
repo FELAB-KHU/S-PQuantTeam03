{
 "cells": [
  {
   "cell_type": "code",
   "execution_count": 13,
   "metadata": {},
   "outputs": [],
   "source": [
    "from datetime import datetime\n",
    "import pandas as pd\n",
    "\n",
    "# def create_date_range_list(date_ranges):\n",
    "#     \"\"\"Create a list of all dates within the given date ranges.\"\"\"\n",
    "#     date_list = []\n",
    "#     for date_range in date_ranges:\n",
    "#         start, end = date_range.split(' ~ ')\n",
    "#         date_list.extend(pd.date_range(start=start, end=end, freq='M'))\n",
    "#     return date_list\n",
    "\n",
    "# # Date ranges for each category\n",
    "# above_average = ['1992-10-31 ~ 1993-04-30', '1993-10-31 ~ 1995-02-28', '1996-11-30 ~ 1998-08-31', \n",
    "#                  '1998-11-30 ~ 2000-10-31', '2003-10-31 ~ 2008-06-30', '2010-11-30 ~ 2011-05-31', \n",
    "#                  '2012-02-29 ~ 2012-05-31', '2012-12-31 ~ 2015-08-31', '2017-02-28 ~ 2018-12-31', \n",
    "#                  '2020-12-31 ~ 2021-10-31']\n",
    "# below_average = ['1990-04-30 ~ 1992-09-30', '1993-05-31 ~ 1993-09-30', '1995-03-31 ~ 1996-10-31', \n",
    "#                  '1998-09-30 ~ 1998-10-31', '2000-11-30 ~ 2003-09-30', '2008-07-31 ~ 2010-10-31', \n",
    "#                  '2011-06-30 ~ 2012-01-31', '2012-06-30 ~ 2012-11-30', '2015-09-30 ~ 2017-01-31', \n",
    "#                  '2019-01-31 ~ 2020-11-30']\n",
    "# rising = ['1991-11-30 ~ 1992-09-30', '1992-11-30 ~ 1993-10-31', '1993-12-31 ~ 1994-01-31', \n",
    "#           '1994-07-31 ~ 1994-08-31', '1995-01-31 ~ 1995-09-30', '1995-11-30 ~ 1995-12-31', \n",
    "#           '1998-02-28 ~ 1998-03-31', '1998-05-31 ~ 1998-05-31', '1998-07-31 ~ 1998-07-31', \n",
    "#           '1999-03-31 ~ 1999-04-30', '1999-06-30 ~ 2000-03-31', '2000-06-30 ~ 2000-09-30', \n",
    "#           '2001-05-31 ~ 2001-08-31', '2001-12-31 ~ 2002-05-31', '2003-04-30 ~ 2005-09-30', \n",
    "#           '2005-11-30 ~ 2006-04-30', '2006-09-30 ~ 2007-02-28', '2009-05-31 ~ 2011-07-31', \n",
    "#           '2012-01-31 ~ 2014-01-31', '2014-04-30 ~ 2014-09-30', '2014-11-30 ~ 2014-11-30', \n",
    "#           '2015-04-30 ~ 2015-07-31', '2016-03-31 ~ 2016-05-31', '2016-07-31 ~ 2018-01-31', \n",
    "#           '2018-08-31 ~ 2018-09-30', '2019-03-31 ~ 2019-04-30', '2019-07-31 ~ 2019-07-31', \n",
    "#           '2019-09-30 ~ 2020-01-31', '2020-12-31 ~ 2020-12-31', '2021-02-28 ~ 2021-10-31']\n",
    "# declining = ['1990-04-30 ~ 1991-10-31', '1992-10-31 ~ 1992-10-31', '1993-11-30 ~ 1993-11-30', \n",
    "#              '1994-02-28 ~ 1994-06-30', '1994-09-30 ~ 1994-12-31', '1995-10-31 ~ 1995-10-31', \n",
    "#              '1996-01-31 ~ 1998-01-31', '1998-04-30 ~ 1998-04-30', '1998-06-30 ~ 1998-06-30', \n",
    "#              '1998-08-31 ~ 1999-02-28', '1999-05-31 ~ 1999-05-31', '2000-04-30 ~ 2000-05-31', \n",
    "#              '2000-10-31 ~ 2001-04-30', '2001-09-30 ~ 2001-11-30', '2002-06-30 ~ 2003-03-31', \n",
    "#              '2005-10-31 ~ 2005-10-31', '2006-05-31 ~ 2006-08-31', '2007-03-31 ~ 2009-04-30', \n",
    "#              '2011-08-31 ~ 2011-12-31', '2014-02-28 ~ 2014-03-31', '2014-10-31 ~ 2014-10-31', \n",
    "#              '2014-12-31 ~ 2015-03-31', '2015-08-31 ~ 2016-02-29', '2016-06-30 ~ 2016-06-30', \n",
    "#              '2018-02-28 ~ 2018-07-31', '2018-10-31 ~ 2019-02-28', '2019-05-31 ~ 2019-06-30', \n",
    "#              '2019-08-31 ~ 2019-08-31', '2020-02-29 ~ 2020-11-30', '2021-01-31 ~ 2021-01-31']\n",
    "\n",
    "# # Converting date ranges to lists of dates\n",
    "# above_average_dates = create_date_range_list(above_average)\n",
    "# below_average_dates = create_date_range_list(below_average)\n",
    "# rising_dates = create_date_range_list(rising)\n",
    "# declining_dates = create_date_range_list(declining)\n",
    "\n",
    "# # Identifying the phases\n",
    "# recovery = set(below_average_dates).intersection(set(rising_dates))\n",
    "# expansion = set(above_average_dates).intersection(set(rising_dates))\n",
    "# slowdown = set(above_average_dates).intersection(set(declining_dates))\n",
    "# contraction = set(below_average_dates).intersection(set(declining_dates))\n",
    "\n",
    "# # Converting sets back to sorted lists\n",
    "# recovery = sorted(list(recovery))\n",
    "# expansion = sorted(list(expansion))\n",
    "# slowdown = sorted(list(slowdown))\n",
    "# contraction = sorted(list(contraction))\n",
    "\n",
    "# # Convert datetime objects to string format for better readability\n",
    "# recovery = [date.strftime('%Y-%m') for date in recovery]\n",
    "# expansion = [date.strftime('%Y-%m') for date in expansion]\n",
    "# slowdown = [date.strftime('%Y-%m') for date in slowdown]\n",
    "# contraction = [date.strftime('%Y-%m') for date in contraction]"
   ]
  },
  {
   "cell_type": "code",
   "execution_count": 1,
   "metadata": {},
   "outputs": [],
   "source": [
    "recovery_lst = ['2003-04', '2003-05', '2003-06', '2003-07', '2003-08', '2003-09', '2009-05', '2009-06', '2009-07', '2009-08', '2009-09', '2009-10', '2009-11', '2009-12', '2010-01', '2010-02', '2010-03', '2010-04', '2010-05', '2010-07', '2010-08', '2010-09', '2010-10', '2011-06', '2011-12', '2012-01', '2012-06', '2012-07', '2012-08', '2012-09', '2012-10', '2012-11', '2015-10', '2016-03', '2016-04', '2016-05', '2016-06', '2016-07', '2016-08', '2016-09', '2016-11', '2016-12', '2017-01', '2017-02', '2019-02', '2019-03', '2019-04', '2019-06', '2019-09', '2019-10', '2019-11', '2019-12', '2020-11']\n",
    "expansion_lst = ['2003-10', '2003-11', '2003-12', '2004-01', '2004-02', '2004-03', '2004-04', '2004-05', '2004-06', '2004-07', '2004-08', '2004-09', '2004-10', '2004-11', '2004-12', '2005-01', '2005-02', '2005-03', '2005-04', '2005-05', '2005-06', '2005-07', '2005-08', '2005-09', '2005-11', '2005-12', '2006-01', '2006-02', '2006-03', '2006-04', '2006-08', '2006-09', '2006-10', '2006-11', '2006-12', '2007-01', '2008-05', '2010-11', '2010-12', '2011-01', '2011-02', '2011-03', '2011-04', '2011-05', '2012-02', '2012-03', '2012-04', '2012-12', '2013-01', '2013-02', '2013-03', '2013-04', '2013-05', '2013-06', '2013-07', '2013-09', '2013-10', '2013-11', '2013-12', '2014-02', '2014-03', '2014-04', '2014-05', '2014-06', '2014-08', '2014-10', '2014-11', '2015-02', '2015-04', '2015-05', '2015-07', '2017-03', '2017-04', '2017-05', '2017-06', '2017-07', '2017-08', '2017-09', '2017-10', '2017-11', '2017-12', '2018-07', '2018-08', '2018-09', '2020-12', '2021-03', '2021-04', '2021-05', '2021-06', '2021-07', '2021-08', '2021-09', '2021-10']\n",
    "slowdown_lst = ['2005-10', '2006-05', '2006-06', '2006-07', '2007-02', '2007-03', '2007-04', '2007-05', '2007-06', '2007-07', '2007-08', '2007-09', '2007-10', '2007-11', '2007-12', '2008-01', '2008-02', '2008-03', '2008-04', '2008-06', '2013-08', '2014-01', '2014-07', '2014-09', '2014-12', '2015-01', '2015-03', '2015-06', '2018-01', '2018-02', '2018-03', '2018-04', '2018-05', '2018-06', '2018-10', '2018-11', '2018-12', '2021-01', '2021-02']\n",
    "contraction_lst = ['2003-01', '2003-02', '2003-03', '2008-07', '2008-08', '2008-09', '2008-10', '2008-11', '2008-12', '2009-01', '2009-02', '2009-03', '2009-04', '2010-06', '2011-07', '2011-08', '2011-09', '2011-10', '2011-11', '2012-05', '2015-08', '2015-09', '2015-11', '2015-12', '2016-01', '2016-02', '2016-10', '2019-01', '2019-05', '2019-07', '2019-08', '2020-01', '2020-02', '2020-03', '2020-04', '2020-05', '2020-06', '2020-07', '2020-08', '2020-09', '2020-10']\n"
   ]
  },
  {
   "cell_type": "code",
   "execution_count": 2,
   "metadata": {},
   "outputs": [
    {
     "data": {
      "text/plain": [
       "(53, 93, 39, 41)"
      ]
     },
     "execution_count": 2,
     "metadata": {},
     "output_type": "execute_result"
    }
   ],
   "source": [
    "len(recovery_lst), len(expansion_lst), len(slowdown_lst), len(contraction_lst)"
   ]
  },
  {
   "cell_type": "code",
   "execution_count": 19,
   "metadata": {},
   "outputs": [],
   "source": [
    "# 데이터프레임 형태로 변환\n",
    "recovery_df = pd.DataFrame(recovery, columns = ['Date'])\n",
    "expansion_df = pd.DataFrame(expansion, columns = ['Date'])\n",
    "slowdown_df = pd.DataFrame(slowdown, columns = ['Date'])\n",
    "contraction_df = pd.DataFrame(contraction, columns = ['Date'])"
   ]
  },
  {
   "cell_type": "code",
   "execution_count": 20,
   "metadata": {},
   "outputs": [],
   "source": [
    "recovery_df['Date'] = pd.to_datetime(recovery_df['Date'])\n",
    "expansion_df['Date'] = pd.to_datetime(expansion_df['Date'])\n",
    "slowdown_df['Date'] = pd.to_datetime(slowdown_df['Date'])\n",
    "contraction_df['Date'] = pd.to_datetime(contraction_df['Date'])"
   ]
  },
  {
   "cell_type": "code",
   "execution_count": 21,
   "metadata": {},
   "outputs": [
    {
     "data": {
      "text/html": [
       "<div>\n",
       "<style scoped>\n",
       "    .dataframe tbody tr th:only-of-type {\n",
       "        vertical-align: middle;\n",
       "    }\n",
       "\n",
       "    .dataframe tbody tr th {\n",
       "        vertical-align: top;\n",
       "    }\n",
       "\n",
       "    .dataframe thead th {\n",
       "        text-align: right;\n",
       "    }\n",
       "</style>\n",
       "<table border=\"1\" class=\"dataframe\">\n",
       "  <thead>\n",
       "    <tr style=\"text-align: right;\">\n",
       "      <th></th>\n",
       "      <th>Date</th>\n",
       "    </tr>\n",
       "  </thead>\n",
       "  <tbody>\n",
       "    <tr>\n",
       "      <th>0</th>\n",
       "      <td>1991-11-01</td>\n",
       "    </tr>\n",
       "    <tr>\n",
       "      <th>1</th>\n",
       "      <td>1991-12-01</td>\n",
       "    </tr>\n",
       "    <tr>\n",
       "      <th>2</th>\n",
       "      <td>1992-01-01</td>\n",
       "    </tr>\n",
       "    <tr>\n",
       "      <th>3</th>\n",
       "      <td>1992-02-01</td>\n",
       "    </tr>\n",
       "    <tr>\n",
       "      <th>4</th>\n",
       "      <td>1992-03-01</td>\n",
       "    </tr>\n",
       "    <tr>\n",
       "      <th>...</th>\n",
       "      <td>...</td>\n",
       "    </tr>\n",
       "    <tr>\n",
       "      <th>81</th>\n",
       "      <td>2019-09-01</td>\n",
       "    </tr>\n",
       "    <tr>\n",
       "      <th>82</th>\n",
       "      <td>2019-10-01</td>\n",
       "    </tr>\n",
       "    <tr>\n",
       "      <th>83</th>\n",
       "      <td>2019-11-01</td>\n",
       "    </tr>\n",
       "    <tr>\n",
       "      <th>84</th>\n",
       "      <td>2019-12-01</td>\n",
       "    </tr>\n",
       "    <tr>\n",
       "      <th>85</th>\n",
       "      <td>2020-01-01</td>\n",
       "    </tr>\n",
       "  </tbody>\n",
       "</table>\n",
       "<p>86 rows × 1 columns</p>\n",
       "</div>"
      ],
      "text/plain": [
       "         Date\n",
       "0  1991-11-01\n",
       "1  1991-12-01\n",
       "2  1992-01-01\n",
       "3  1992-02-01\n",
       "4  1992-03-01\n",
       "..        ...\n",
       "81 2019-09-01\n",
       "82 2019-10-01\n",
       "83 2019-11-01\n",
       "84 2019-12-01\n",
       "85 2020-01-01\n",
       "\n",
       "[86 rows x 1 columns]"
      ]
     },
     "execution_count": 21,
     "metadata": {},
     "output_type": "execute_result"
    }
   ],
   "source": [
    "recovery_df"
   ]
  },
  {
   "cell_type": "code",
   "execution_count": 22,
   "metadata": {},
   "outputs": [],
   "source": [
    "recovery_df = recovery_df['Date'] + pd.DateOffset(months=+1)\n",
    "expansion_df= expansion_df['Date'] + pd.DateOffset(months=+1)\n",
    "slowdown_df = slowdown_df['Date'] + pd.DateOffset(months=+1)\n",
    "contraction_df = contraction_df['Date'] + pd.DateOffset(months=+1)"
   ]
  },
  {
   "cell_type": "code",
   "execution_count": 23,
   "metadata": {},
   "outputs": [
    {
     "data": {
      "text/plain": [
       "0    1991-12-01\n",
       "1    1992-01-01\n",
       "2    1992-02-01\n",
       "3    1992-03-01\n",
       "4    1992-04-01\n",
       "        ...    \n",
       "81   2019-10-01\n",
       "82   2019-11-01\n",
       "83   2019-12-01\n",
       "84   2020-01-01\n",
       "85   2020-02-01\n",
       "Name: Date, Length: 86, dtype: datetime64[ns]"
      ]
     },
     "execution_count": 23,
     "metadata": {},
     "output_type": "execute_result"
    }
   ],
   "source": [
    "recovery_df"
   ]
  },
  {
   "cell_type": "code",
   "execution_count": 24,
   "metadata": {},
   "outputs": [],
   "source": [
    "# csv 파일로 저장\n",
    "recovery_df.to_csv('recovery_df.csv')\n",
    "expansion_df.to_csv('expansion_df.csv')\n",
    "slowdown_df.to_csv('slowdown_df.csv')\n",
    "contraction_df.to_csv('contraction_df.csv')"
   ]
  }
 ],
 "metadata": {
  "kernelspec": {
   "display_name": "base",
   "language": "python",
   "name": "python3"
  },
  "language_info": {
   "codemirror_mode": {
    "name": "ipython",
    "version": 3
   },
   "file_extension": ".py",
   "mimetype": "text/x-python",
   "name": "python",
   "nbconvert_exporter": "python",
   "pygments_lexer": "ipython3",
   "version": "3.9.8"
  }
 },
 "nbformat": 4,
 "nbformat_minor": 2
}
